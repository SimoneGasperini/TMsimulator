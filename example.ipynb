{
 "cells": [
  {
   "cell_type": "code",
   "execution_count": 1,
   "source": [
    "from TMsim.machine import TuringMachine\r\n",
    "\r\n",
    "# this machine outputs the inverse binary string (0 <--> 1)\r\n",
    "TM = TuringMachine.from_txt('./codes/1tape_inverse.txt')\r\n",
    "print(TM)\r\n"
   ],
   "outputs": [
    {
     "output_type": "stream",
     "name": "stdout",
     "text": [
      "TuringMachine(\n",
      "\tnum_tapes = 1\n",
      "\talphabet = {'_', '1', '0', '>'}\n",
      "\tstates = {'Qinit', 'Qhalt', 'Q2', 'Q1'}\n",
      ")\n"
     ]
    }
   ],
   "metadata": {}
  },
  {
   "cell_type": "code",
   "execution_count": 2,
   "source": [
    "TM.load_input('00011101')\r\n",
    "TM.show_input()\r\n"
   ],
   "outputs": [
    {
     "output_type": "stream",
     "name": "stdout",
     "text": [
      "init_state = Qinit\n",
      "input = ..|_||>|0|0|0|1|1|1|0|1|_|..\n"
     ]
    }
   ],
   "metadata": {}
  },
  {
   "cell_type": "code",
   "execution_count": 3,
   "source": [
    "TM.run()\r\n",
    "TM.show_output()\r\n"
   ],
   "outputs": [
    {
     "output_type": "stream",
     "name": "stdout",
     "text": [
      "final_state = Qhalt\n",
      "output = ..|_||>|1|1|1|0|0|0|1|0|_|..\n",
      "num_steps = 21\n"
     ]
    }
   ],
   "metadata": {}
  }
 ],
 "metadata": {
  "kernelspec": {
   "name": "python3",
   "display_name": "Python 3.8.10 64-bit ('base': conda)"
  },
  "language_info": {
   "codemirror_mode": {
    "name": "ipython",
    "version": 3
   },
   "file_extension": ".py",
   "mimetype": "text/x-python",
   "name": "python",
   "nbconvert_exporter": "python",
   "pygments_lexer": "ipython3",
   "version": "3.8.10"
  },
  "interpreter": {
   "hash": "fe1610ab63cd726e91a61fe78ce1a475aa9ae83ac6caa7ceb5c58c9a3dff1027"
  }
 },
 "nbformat": 4,
 "nbformat_minor": 5
}